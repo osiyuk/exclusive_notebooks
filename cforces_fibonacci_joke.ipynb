{
 "cells": [
  {
   "cell_type": "markdown",
   "metadata": {},
   "source": [
    "http://codeforces.com/contest/633/problem/D"
   ]
  },
  {
   "cell_type": "code",
   "execution_count": 1,
   "metadata": {
    "collapsed": false
   },
   "outputs": [],
   "source": [
    "def fibonacci_joke(input, debug=False):\n",
    "    #n = int(input.readline())\n",
    "    #seq = input.readline().split()\n",
    "\n",
    "    seq = [int(a) for a in input.read().split()]\n",
    "    n = seq.pop(0)\n",
    "    if debug:\n",
    "        print len(seq)\n",
    "        assert n == len(seq), 'input is wrong'\n",
    "\n",
    "    \n",
    "    longest = search_fibonacci(seq, debug)\n",
    "    print longest[0]\n",
    "    \n",
    "    \n",
    "def search_fibonacci(seq, debug=False):\n",
    "    seq.sort()\n",
    "    longest = 0, []\n",
    "    \n",
    "    while True:\n",
    "        fst = seq.pop(0)\n",
    "        for sec in seq:\n",
    "            if sec == 0: break\n",
    "\n",
    "            f1, f2, l = fst, sec, 2\n",
    "            while True:\n",
    "                f1, f2 = f2, f2 + f1\n",
    "                try:\n",
    "                    seq.index(f2)\n",
    "                    l = l + 1\n",
    "                    continue\n",
    "                except ValueError:\n",
    "                    break\n",
    "            \n",
    "            # got fib seq len for fst, sec\n",
    "            if l > longest[0]:\n",
    "                longest = l, [fst, sec]\n",
    "                if debug: print longest\n",
    "        \n",
    "        # got length of longest fib seq for fst and previous\n",
    "        if longest[0] > len(seq):\n",
    "            break\n",
    "    return longest"
   ]
  },
  {
   "cell_type": "code",
   "execution_count": 2,
   "metadata": {
    "collapsed": true
   },
   "outputs": [],
   "source": [
    "from StringIO import StringIO"
   ]
  },
  {
   "cell_type": "code",
   "execution_count": 3,
   "metadata": {
    "collapsed": false
   },
   "outputs": [
    {
     "name": "stdout",
     "output_type": "stream",
     "text": [
      "3\n"
     ]
    }
   ],
   "source": [
    "input = StringIO(\"3\\n1 2 -1\\n\\n\")\n",
    "fibonacci_joke(input)"
   ]
  },
  {
   "cell_type": "code",
   "execution_count": 4,
   "metadata": {
    "collapsed": false
   },
   "outputs": [
    {
     "name": "stdout",
     "output_type": "stream",
     "text": [
      "4\n"
     ]
    }
   ],
   "source": [
    "input = StringIO(\"5\\n28 35 7 14 21\")\n",
    "fibonacci_joke(input)"
   ]
  },
  {
   "cell_type": "code",
   "execution_count": 5,
   "metadata": {
    "collapsed": false
   },
   "outputs": [
    {
     "name": "stdout",
     "output_type": "stream",
     "text": [
      "176\n",
      "(10, [0, 1])\n",
      "10\n",
      "         24719 function calls in 0.058 seconds\n",
      "\n",
      "   Ordered by: standard name\n",
      "\n",
      "   ncalls  tottime  percall  cumtime  percall filename:lineno(function)\n",
      "        1    0.000    0.000    0.058    0.058 <ipython-input-1-ca1904fece38>:1(fibonacci_joke)\n",
      "        1    0.024    0.024    0.057    0.057 <ipython-input-1-ca1904fece38>:16(search_fibonacci)\n",
      "        1    0.000    0.000    0.058    0.058 <string>:1(<module>)\n",
      "        1    0.000    0.000    0.000    0.000 StringIO.py:119(read)\n",
      "        1    0.000    0.000    0.000    0.000 StringIO.py:38(_complain_ifclosed)\n",
      "        1    0.000    0.000    0.000    0.000 ioloop.py:928(add_callback)\n",
      "        6    0.000    0.000    0.000    0.000 iostream.py:227(_is_master_process)\n",
      "        6    0.000    0.000    0.000    0.000 iostream.py:240(_schedule_flush)\n",
      "        6    0.000    0.000    0.001    0.000 iostream.py:308(write)\n",
      "        1    0.000    0.000    0.000    0.000 posix.py:53(wake)\n",
      "        1    0.000    0.000    0.000    0.000 stack_context.py:253(wrap)\n",
      "        6    0.000    0.000    0.000    0.000 utf_8.py:15(decode)\n",
      "        6    0.000    0.000    0.000    0.000 {_codecs.utf_8_decode}\n",
      "        1    0.000    0.000    0.000    0.000 {hasattr}\n",
      "        6    0.000    0.000    0.000    0.000 {isinstance}\n",
      "      169    0.000    0.000    0.000    0.000 {len}\n",
      "        1    0.000    0.000    0.000    0.000 {method 'append' of 'list' objects}\n",
      "        6    0.000    0.000    0.000    0.000 {method 'decode' of 'str' objects}\n",
      "        1    0.000    0.000    0.000    0.000 {method 'disable' of '_lsprof.Profiler' objects}\n",
      "    24313    0.033    0.000    0.033    0.000 {method 'index' of 'list' objects}\n",
      "      168    0.000    0.000    0.000    0.000 {method 'pop' of 'list' objects}\n",
      "        1    0.000    0.000    0.000    0.000 {method 'sort' of 'list' objects}\n",
      "        1    0.000    0.000    0.000    0.000 {method 'split' of 'str' objects}\n",
      "        6    0.000    0.000    0.000    0.000 {method 'write' of '_io.StringIO' objects}\n",
      "        1    0.000    0.000    0.000    0.000 {method 'write' of 'file' objects}\n",
      "        6    0.000    0.000    0.000    0.000 {posix.getpid}\n",
      "        1    0.000    0.000    0.000    0.000 {thread.get_ident}\n",
      "\n",
      "\n"
     ]
    }
   ],
   "source": [
    "import cProfile\n",
    "input = StringIO(\"\"\"176\n",
    "95 19 4 95 66 6 40 31 54 0 32 24 29 19 81 100 100 7 15 51 51 35 83 21 73 9 57 17 14 77 59 66 8 \\\n",
    "54 36 8 3 66 11 100 56 30 1 76 45 79 84 70 22 51 8 28 86 40 3 21 77 35 63 49 44 51 20 84 76 7 \\\n",
    "72 51 92 52 74 69 58 69 1 46 50 49 77 39 69 96 34 99 62 1 67 6 47 40 51 82 64 78 82 2 31 77 81 \\\n",
    "73 85 41 8 95 65 10 72 66 43 10 72 61 60 79 66 54 59 54 42 90 10 99 0 65 51 50 13 15 59 52 37 \\\n",
    "68 28 54 69 16 66 4 7 4 50 37 50 35 43 74 66 34 46 35 47 100 38 58 5 93 61 15 64 39 91 3 42 75 \\\n",
    "99 92 18 84 8 49 43 69 15 17 9 11\"\"\")\n",
    "cProfile.run('fibonacci_joke(input, True)')"
   ]
  },
  {
   "cell_type": "code",
   "execution_count": 6,
   "metadata": {
    "collapsed": false,
    "scrolled": false
   },
   "outputs": [
    {
     "name": "stdout",
     "output_type": "stream",
     "text": [
      "2\n",
      "         501535 function calls in 3.642 seconds\n",
      "\n",
      "   Ordered by: standard name\n",
      "\n",
      "   ncalls  tottime  percall  cumtime  percall filename:lineno(function)\n",
      "        1    0.001    0.001    3.642    3.642 <ipython-input-1-ca1904fece38>:1(fibonacci_joke)\n",
      "        1    0.640    0.640    3.641    3.641 <ipython-input-1-ca1904fece38>:16(search_fibonacci)\n",
      "        1    0.000    0.000    3.642    3.642 <string>:1(<module>)\n",
      "        1    0.000    0.000    0.000    0.000 StringIO.py:119(read)\n",
      "        1    0.000    0.000    0.000    0.000 StringIO.py:38(_complain_ifclosed)\n",
      "        1    0.000    0.000    0.000    0.000 StringIO.py:54(__init__)\n",
      "        1    0.000    0.000    0.000    0.000 ioloop.py:928(add_callback)\n",
      "        2    0.000    0.000    0.000    0.000 iostream.py:227(_is_master_process)\n",
      "        2    0.000    0.000    0.000    0.000 iostream.py:240(_schedule_flush)\n",
      "        2    0.000    0.000    0.000    0.000 iostream.py:308(write)\n",
      "        1    0.000    0.000    0.000    0.000 posix.py:53(wake)\n",
      "        1    0.000    0.000    0.000    0.000 stack_context.py:253(wrap)\n",
      "        2    0.000    0.000    0.000    0.000 utf_8.py:15(decode)\n",
      "        2    0.000    0.000    0.000    0.000 {_codecs.utf_8_decode}\n",
      "        1    0.000    0.000    0.000    0.000 {hasattr}\n",
      "        3    0.000    0.000    0.000    0.000 {isinstance}\n",
      "     1000    0.000    0.000    0.000    0.000 {len}\n",
      "        1    0.000    0.000    0.000    0.000 {method 'append' of 'list' objects}\n",
      "        2    0.000    0.000    0.000    0.000 {method 'decode' of 'str' objects}\n",
      "        1    0.000    0.000    0.000    0.000 {method 'disable' of '_lsprof.Profiler' objects}\n",
      "   499500    3.000    0.000    3.000    0.000 {method 'index' of 'list' objects}\n",
      "     1000    0.001    0.000    0.001    0.000 {method 'pop' of 'list' objects}\n",
      "        1    0.000    0.000    0.000    0.000 {method 'sort' of 'list' objects}\n",
      "        1    0.000    0.000    0.000    0.000 {method 'split' of 'str' objects}\n",
      "        2    0.000    0.000    0.000    0.000 {method 'write' of '_io.StringIO' objects}\n",
      "        1    0.000    0.000    0.000    0.000 {method 'write' of 'file' objects}\n",
      "        2    0.000    0.000    0.000    0.000 {posix.getpid}\n",
      "        1    0.000    0.000    0.000    0.000 {thread.get_ident}\n",
      "\n",
      "\n"
     ]
    }
   ],
   "source": [
    "import cProfile, random\n",
    "#help(random.randint)\n",
    "\n",
    "a , b = map(int, [-1e9, 1e9])\n",
    "rand = lambda j: random.randint(a, b)\n",
    "\n",
    "test = map(rand, range(1000))\n",
    "data = ' '.join(map(str, test))\n",
    "cProfile.run(\"fibonacci_joke(StringIO('1000\\\\n' + data))\")"
   ]
  },
  {
   "cell_type": "code",
   "execution_count": 7,
   "metadata": {
    "collapsed": false
   },
   "outputs": [],
   "source": [
    "import sys\n",
    "# __name__ == '__main__' and fibonacci_joke(sys.stdin)"
   ]
  }
 ],
 "metadata": {
  "kernelspec": {
   "display_name": "Python 2",
   "language": "python",
   "name": "python2"
  },
  "language_info": {
   "codemirror_mode": {
    "name": "ipython",
    "version": 2
   },
   "file_extension": ".py",
   "mimetype": "text/x-python",
   "name": "python",
   "nbconvert_exporter": "python",
   "pygments_lexer": "ipython2",
   "version": "2.7.11+"
  }
 },
 "nbformat": 4,
 "nbformat_minor": 0
}
