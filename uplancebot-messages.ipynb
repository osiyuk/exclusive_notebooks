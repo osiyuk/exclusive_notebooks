{
 "cells": [
  {
   "cell_type": "code",
   "execution_count": 1,
   "metadata": {
    "collapsed": true
   },
   "outputs": [],
   "source": [
    "from __future__ import print_function"
   ]
  },
  {
   "cell_type": "code",
   "execution_count": 2,
   "metadata": {
    "collapsed": false
   },
   "outputs": [
    {
     "name": "stdout",
     "output_type": "stream",
     "text": [
      "82775 bytes\n"
     ]
    }
   ],
   "source": [
    "# Data preprocess task\n",
    "content = open('uplancebot-messages.txt').read()\n",
    "print(len(content), 'bytes')"
   ]
  },
  {
   "cell_type": "code",
   "execution_count": 3,
   "metadata": {
    "collapsed": false
   },
   "outputs": [],
   "source": [
    "def parse_message(text):\n",
    "    return text.split('\\n')\n",
    "\n",
    "def is_offer(message):\n",
    "    is_3_lines = len(message) == 3\n",
    "    is_bot = message[0].startswith('Uplancebot')\n",
    "    return is_3_lines and is_bot"
   ]
  },
  {
   "cell_type": "code",
   "execution_count": 4,
   "metadata": {
    "collapsed": false
   },
   "outputs": [
    {
     "data": {
      "text/plain": [
       "639"
      ]
     },
     "execution_count": 4,
     "metadata": {},
     "output_type": "execute_result"
    }
   ],
   "source": [
    "messages = map(parse_message, content.split('\\n\\n'))\n",
    "len(messages)"
   ]
  },
  {
   "cell_type": "code",
   "execution_count": 5,
   "metadata": {
    "collapsed": false
   },
   "outputs": [
    {
     "data": {
      "text/plain": [
       "632"
      ]
     },
     "execution_count": 5,
     "metadata": {},
     "output_type": "execute_result"
    }
   ],
   "source": [
    "offers = filter(is_offer, messages)\n",
    "len(offers)"
   ]
  },
  {
   "cell_type": "code",
   "execution_count": 6,
   "metadata": {
    "collapsed": false,
    "scrolled": true
   },
   "outputs": [
    {
     "name": "stdout",
     "output_type": "stream",
     "text": [
      "Uplancebot, [02.08.17 00:47]\n",
      "Freelance Writer/Marketing Communications Professional Needed | Hourly\n",
      "http://www.upwork.com/jobs/~014494d5222fcdb460\n",
      "\n",
      "Uplancebot, [02.08.17 01:47]\n",
      "Consultation/Design is needed: Website's Wireframe + Colour Palette + UI + Logo | $50\n",
      "http://www.upwork.com/jobs/~01b0ded1bbf2a593c7\n",
      "\n",
      "Uplancebot, [02.08.17 01:47]\n",
      "Need Someone To Write Product Description for Long Time. | $50\n",
      "http://www.upwork.com/jobs/~01c5f186e3f7902784\n",
      "\n"
     ]
    }
   ],
   "source": [
    "length = 3\n",
    "start = len(offers) - length\n",
    "for i in range(length):\n",
    "    map(print, offers[start + i])\n",
    "    print()"
   ]
  },
  {
   "cell_type": "code",
   "execution_count": 7,
   "metadata": {
    "collapsed": true
   },
   "outputs": [],
   "source": [
    "def parse_time(head):\n",
    "    i = head.index('[')\n",
    "    j = head.index(']')\n",
    "    return head[i+1:j]\n",
    "\n",
    "def parse_title(title):\n",
    "    offer = title.split('|')\n",
    "    title = offer[0]\n",
    "    junk  = list('+-?\"*$&!/().:;,\\'')\n",
    "    for c in junk:\n",
    "        title = title.replace(c, ' ')\n",
    "    words = map(str.lower, title.split())\n",
    "    attr  = offer[1].strip()\n",
    "    return (words, attr)"
   ]
  },
  {
   "cell_type": "code",
   "execution_count": 8,
   "metadata": {
    "collapsed": false
   },
   "outputs": [
    {
     "data": {
      "text/plain": [
       "'31.07.17 01:18'"
      ]
     },
     "execution_count": 8,
     "metadata": {},
     "output_type": "execute_result"
    }
   ],
   "source": [
    "import random\n",
    "offer = random.choice(offers)\n",
    "parse_time(offer[0])"
   ]
  },
  {
   "cell_type": "code",
   "execution_count": 9,
   "metadata": {
    "collapsed": false,
    "scrolled": false
   },
   "outputs": [
    {
     "name": "stdout",
     "output_type": "stream",
     "text": [
      "(['minor', 'tweaks', 'to', 'wordpress', 'theme'], '$12')\n",
      "(['need', 'wordpress', 'plugin', 'modified'], '$20')\n",
      "(['create', 'adv', 'video', 'using', 'aftereffects', 'simple', 'text', 'images', 'animations', 'sync', 'to', 'voiceover'], '$400')\n"
     ]
    }
   ],
   "source": [
    "for i in range(3):\n",
    "    offer = random.choice(offers)\n",
    "    print(parse_title(offer[1]))"
   ]
  },
  {
   "cell_type": "code",
   "execution_count": 10,
   "metadata": {
    "collapsed": true
   },
   "outputs": [],
   "source": [
    "cols = 'date title url attr words'.split()"
   ]
  },
  {
   "cell_type": "code",
   "execution_count": 11,
   "metadata": {
    "collapsed": false
   },
   "outputs": [],
   "source": [
    "def process_offer(offer):\n",
    "    head, title, url = offer\n",
    "    date = parse_time(head)\n",
    "    words, attr = parse_title(title)\n",
    "    \n",
    "    # make dict suitable for indexing and csv exporting\n",
    "    row = dict(zip(cols, [date, title, url, attr, words]))\n",
    "    return row"
   ]
  },
  {
   "cell_type": "code",
   "execution_count": 12,
   "metadata": {
    "collapsed": false
   },
   "outputs": [
    {
     "data": {
      "text/plain": [
       "632"
      ]
     },
     "execution_count": 12,
     "metadata": {},
     "output_type": "execute_result"
    }
   ],
   "source": [
    "bag = map(process_offer, offers)\n",
    "len(bag)"
   ]
  },
  {
   "cell_type": "code",
   "execution_count": 13,
   "metadata": {
    "collapsed": false
   },
   "outputs": [
    {
     "data": {
      "text/plain": [
       "{'attr': '$25',\n",
       " 'date': '31.07.17 01:17',\n",
       " 'title': 'Transfer Wordpress site to new Hosting on Go Daddy | $25',\n",
       " 'url': 'http://www.upwork.com/jobs/~0128ee47f8bc1db79b',\n",
       " 'words': ['transfer',\n",
       "  'wordpress',\n",
       "  'site',\n",
       "  'to',\n",
       "  'new',\n",
       "  'hosting',\n",
       "  'on',\n",
       "  'go',\n",
       "  'daddy']}"
      ]
     },
     "execution_count": 13,
     "metadata": {},
     "output_type": "execute_result"
    }
   ],
   "source": [
    "bag[0]"
   ]
  },
  {
   "cell_type": "code",
   "execution_count": 14,
   "metadata": {
    "collapsed": false
   },
   "outputs": [],
   "source": [
    "# csv exporting for future work\n",
    "import pandas\n",
    "table = pandas.DataFrame(bag, columns='date words attr url'.split())\n",
    "table.words = table.words.str.join(' ')\n",
    "table.to_csv('uplancebot-messages.csv')"
   ]
  },
  {
   "cell_type": "code",
   "execution_count": 15,
   "metadata": {
    "collapsed": false
   },
   "outputs": [
    {
     "data": {
      "text/html": [
       "<div>\n",
       "<table border=\"1\" class=\"dataframe\">\n",
       "  <thead>\n",
       "    <tr style=\"text-align: right;\">\n",
       "      <th></th>\n",
       "      <th>date</th>\n",
       "      <th>words</th>\n",
       "      <th>attr</th>\n",
       "      <th>url</th>\n",
       "    </tr>\n",
       "  </thead>\n",
       "  <tbody>\n",
       "    <tr>\n",
       "      <th>0</th>\n",
       "      <td>31.07.17 01:17</td>\n",
       "      <td>transfer wordpress site to new hosting on go d...</td>\n",
       "      <td>$25</td>\n",
       "      <td>http://www.upwork.com/jobs/~0128ee47f8bc1db79b</td>\n",
       "    </tr>\n",
       "    <tr>\n",
       "      <th>1</th>\n",
       "      <td>31.07.17 01:17</td>\n",
       "      <td>i need someone to create and design a land inv...</td>\n",
       "      <td>Hourly</td>\n",
       "      <td>http://www.upwork.com/jobs/~010073327960d7d720</td>\n",
       "    </tr>\n",
       "    <tr>\n",
       "      <th>2</th>\n",
       "      <td>31.07.17 01:17</td>\n",
       "      <td>need to have my website designed and set up</td>\n",
       "      <td>$75</td>\n",
       "      <td>http://www.upwork.com/jobs/~0183a27f9be5f1f595</td>\n",
       "    </tr>\n",
       "    <tr>\n",
       "      <th>3</th>\n",
       "      <td>31.07.17 01:17</td>\n",
       "      <td>need ecommerce site developer</td>\n",
       "      <td>$100</td>\n",
       "      <td>http://www.upwork.com/jobs/~011ee2079f1631d7d2</td>\n",
       "    </tr>\n",
       "    <tr>\n",
       "      <th>4</th>\n",
       "      <td>31.07.17 01:17</td>\n",
       "      <td>moving videos from wistia to thinkific and org...</td>\n",
       "      <td>Hourly</td>\n",
       "      <td>http://www.upwork.com/jobs/~0192849f8f0d0d9be1</td>\n",
       "    </tr>\n",
       "    <tr>\n",
       "      <th>5</th>\n",
       "      <td>31.07.17 01:17</td>\n",
       "      <td>web application wordpress</td>\n",
       "      <td>$50</td>\n",
       "      <td>http://www.upwork.com/jobs/~01edf35b2d70de29ea</td>\n",
       "    </tr>\n",
       "    <tr>\n",
       "      <th>6</th>\n",
       "      <td>31.07.17 01:17</td>\n",
       "      <td>ui design for business directory site</td>\n",
       "      <td>$250</td>\n",
       "      <td>http://www.upwork.com/jobs/~013b08df3bb52ea1ad</td>\n",
       "    </tr>\n",
       "    <tr>\n",
       "      <th>7</th>\n",
       "      <td>31.07.17 01:17</td>\n",
       "      <td>an hardworking product manager needed</td>\n",
       "      <td>Hourly</td>\n",
       "      <td>http://www.upwork.com/jobs/~014c418d4f877ba9e4</td>\n",
       "    </tr>\n",
       "    <tr>\n",
       "      <th>8</th>\n",
       "      <td>31.07.17 01:17</td>\n",
       "      <td>improve google analytics performance stats</td>\n",
       "      <td>$100</td>\n",
       "      <td>http://www.upwork.com/jobs/~01b486ce1abfd53c8a</td>\n",
       "    </tr>\n",
       "    <tr>\n",
       "      <th>9</th>\n",
       "      <td>31.07.17 01:17</td>\n",
       "      <td>are you the customer success wizard we are loo...</td>\n",
       "      <td>Hourly</td>\n",
       "      <td>http://www.upwork.com/jobs/~0161390acfbb0381d1</td>\n",
       "    </tr>\n",
       "  </tbody>\n",
       "</table>\n",
       "</div>"
      ],
      "text/plain": [
       "             date                                              words    attr  \\\n",
       "0  31.07.17 01:17  transfer wordpress site to new hosting on go d...     $25   \n",
       "1  31.07.17 01:17  i need someone to create and design a land inv...  Hourly   \n",
       "2  31.07.17 01:17        need to have my website designed and set up     $75   \n",
       "3  31.07.17 01:17                      need ecommerce site developer    $100   \n",
       "4  31.07.17 01:17  moving videos from wistia to thinkific and org...  Hourly   \n",
       "5  31.07.17 01:17                          web application wordpress     $50   \n",
       "6  31.07.17 01:17              ui design for business directory site    $250   \n",
       "7  31.07.17 01:17              an hardworking product manager needed  Hourly   \n",
       "8  31.07.17 01:17         improve google analytics performance stats    $100   \n",
       "9  31.07.17 01:17  are you the customer success wizard we are loo...  Hourly   \n",
       "\n",
       "                                              url  \n",
       "0  http://www.upwork.com/jobs/~0128ee47f8bc1db79b  \n",
       "1  http://www.upwork.com/jobs/~010073327960d7d720  \n",
       "2  http://www.upwork.com/jobs/~0183a27f9be5f1f595  \n",
       "3  http://www.upwork.com/jobs/~011ee2079f1631d7d2  \n",
       "4  http://www.upwork.com/jobs/~0192849f8f0d0d9be1  \n",
       "5  http://www.upwork.com/jobs/~01edf35b2d70de29ea  \n",
       "6  http://www.upwork.com/jobs/~013b08df3bb52ea1ad  \n",
       "7  http://www.upwork.com/jobs/~014c418d4f877ba9e4  \n",
       "8  http://www.upwork.com/jobs/~01b486ce1abfd53c8a  \n",
       "9  http://www.upwork.com/jobs/~0161390acfbb0381d1  "
      ]
     },
     "execution_count": 15,
     "metadata": {},
     "output_type": "execute_result"
    }
   ],
   "source": [
    "table[:10]"
   ]
  },
  {
   "cell_type": "code",
   "execution_count": 16,
   "metadata": {
    "collapsed": false
   },
   "outputs": [
    {
     "data": {
      "text/plain": [
       "1120"
      ]
     },
     "execution_count": 16,
     "metadata": {},
     "output_type": "execute_result"
    }
   ],
   "source": [
    "# Indexing\n",
    "index = dict()\n",
    "for offer in bag:\n",
    "    for word in offer['words']:\n",
    "        if word not in index:\n",
    "            index[word] = list()\n",
    "        index[word].append(offer)\n",
    "\n",
    "# Using index for profit\n",
    "def docs(word):\n",
    "    if word not in index:\n",
    "        print('Not found')\n",
    "        return\n",
    "    for doc in index[word]:\n",
    "        print(doc['date'], doc['title'])\n",
    "        print(doc['url'])\n",
    "        print()\n",
    "\n",
    "len(index)"
   ]
  },
  {
   "cell_type": "code",
   "execution_count": 17,
   "metadata": {
    "collapsed": true
   },
   "outputs": [],
   "source": [
    "# Documents per word frequency\n",
    "freq = dict()\n",
    "for word in index:\n",
    "    freq[word] = len(index[word])\n",
    "\n",
    "top = freq.items()\n",
    "\n",
    "def view_top(n):\n",
    "    for i in range(n):\n",
    "        word, freq = top[i]\n",
    "        print('%4d' % freq, word)"
   ]
  },
  {
   "cell_type": "code",
   "execution_count": 18,
   "metadata": {
    "collapsed": false
   },
   "outputs": [
    {
     "name": "stdout",
     "output_type": "stream",
     "text": [
      " 228 wordpress\n",
      " 157 website\n",
      " 132 for\n",
      " 117 and\n",
      " 111 to\n",
      "  99 a\n",
      "  82 need\n",
      "  65 site\n",
      "  63 developer\n",
      "  60 with\n"
     ]
    }
   ],
   "source": [
    "# Top 10 words\n",
    "numkey = lambda t: t[1]\n",
    "top.sort(key=numkey, reverse=True)\n",
    "view_top(10)"
   ]
  },
  {
   "cell_type": "code",
   "execution_count": 19,
   "metadata": {
    "collapsed": false
   },
   "outputs": [
    {
     "name": "stdout",
     "output_type": "stream",
     "text": [
      "   1 convert\n",
      "   1 status\n",
      "   1 scroll\n",
      "   1 daily\n",
      "   1 php7\n",
      "   1 blogs\n",
      "   1 faster\n",
      "   1 land\n",
      "   1 designers\n",
      "   1 xamarin\n",
      "   1 exposure\n",
      "   1 structure\n",
      "   1 sql\n",
      "   1 intent\n",
      "   1 est\n",
      "   1 breadcrumb\n",
      "   1 gamified\n",
      "   1 robots\n",
      "   1 class\n",
      "   1 cosmetics\n"
     ]
    }
   ],
   "source": [
    "# Bottom\n",
    "#top.sort(key=numkey)\n",
    "top.reverse()\n",
    "view_top(20)"
   ]
  },
  {
   "cell_type": "code",
   "execution_count": 20,
   "metadata": {
    "collapsed": false
   },
   "outputs": [
    {
     "name": "stdout",
     "output_type": "stream",
     "text": [
      "31.07.17 01:17 German Website developer and on-page optimization | $300\n",
      "http://www.upwork.com/jobs/~01efadfedf55205b51\n",
      "\n",
      "31.07.17 01:18 Adsense expert needed for wordpress optimization | $50\n",
      "http://www.upwork.com/jobs/~01474650f024f2e049\n",
      "\n",
      "31.07.17 01:19 Professional photography site built with Kinetika theme in WordPress needs optimization | $200\n",
      "http://www.upwork.com/jobs/~01293851d7c7f9b026\n",
      "\n",
      "31.07.17 18:09 SEO Optimization for Website | Just Need Pros | $282\n",
      "http://www.upwork.com/jobs/~01ac3d6c2182269a62\n",
      "\n",
      "31.07.17 21:19 Site speed optimization for my Shopify website | Hourly\n",
      "http://www.upwork.com/jobs/~0175722a7ca129a548\n",
      "\n",
      "31.07.17 22:19 Wordpress Speed Optimization Job | $10\n",
      "http://www.upwork.com/jobs/~018d7998b6511a409f\n",
      "\n",
      "31.07.17 22:19 On-Page Optimization Experts | Hourly\n",
      "http://www.upwork.com/jobs/~01bdbf41fed97b9316\n",
      "\n",
      "01.08.17 00:25 Wordpress Website Speed Optimization | $75\n",
      "http://www.upwork.com/jobs/~01267275db6d526f23\n",
      "\n",
      "01.08.17 03:30 NEED SOMEONE WHO KNOWS WORDPRESS/ OPTIMIZATION/ LINK BUILDING | Hourly\n",
      "http://www.upwork.com/jobs/~01e4eaf84cb099c361\n",
      "\n",
      "01.08.17 08:35 Wordpress based website refresh and optimization | Hourly\n",
      "http://www.upwork.com/jobs/~011299f8fb7225e9c9\n",
      "\n",
      "01.08.17 09:30 WordPress Speed Optimization | $5\n",
      "http://www.upwork.com/jobs/~01f2f4a0031aa81041\n",
      "\n",
      "01.08.17 23:47 Wordpress / WooCommerce Website Speed Audit and Optimization | Hourly\n",
      "http://www.upwork.com/jobs/~01dd08ce80b96bcd61\n",
      "\n",
      "01.08.17 23:47 Website speed optimization | Hourly\n",
      "http://www.upwork.com/jobs/~01db366f03526651c6\n",
      "\n"
     ]
    }
   ],
   "source": [
    "docs('optimization')"
   ]
  },
  {
   "cell_type": "code",
   "execution_count": 21,
   "metadata": {
    "collapsed": false
   },
   "outputs": [
    {
     "name": "stdout",
     "output_type": "stream",
     "text": [
      "31.07.17 01:18 Website Code Audit | $150\n",
      "http://www.upwork.com/jobs/~01e4d2de117a871d63\n",
      "\n",
      "01.08.17 23:47 Wordpress / WooCommerce Website Speed Audit and Optimization | Hourly\n",
      "http://www.upwork.com/jobs/~01dd08ce80b96bcd61\n",
      "\n"
     ]
    }
   ],
   "source": [
    "docs('audit')"
   ]
  }
 ],
 "metadata": {
  "kernelspec": {
   "display_name": "Python 2",
   "language": "python",
   "name": "python2"
  },
  "language_info": {
   "codemirror_mode": {
    "name": "ipython",
    "version": 2
   },
   "file_extension": ".py",
   "mimetype": "text/x-python",
   "name": "python",
   "nbconvert_exporter": "python",
   "pygments_lexer": "ipython2",
   "version": "2.7.13"
  }
 },
 "nbformat": 4,
 "nbformat_minor": 0
}
