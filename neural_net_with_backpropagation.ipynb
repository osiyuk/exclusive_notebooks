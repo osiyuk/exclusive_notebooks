{
 "cells": [
  {
   "cell_type": "code",
   "execution_count": 1,
   "metadata": {
    "collapsed": true
   },
   "outputs": [],
   "source": [
    "import numpy"
   ]
  },
  {
   "cell_type": "code",
   "execution_count": 2,
   "metadata": {
    "collapsed": false
   },
   "outputs": [],
   "source": [
    "# helpers\n",
    "def random_weights(shape):\n",
    "    # [0, 1)\n",
    "    weights = numpy.random.random_sample(shape)\n",
    "    # [-1, 1)\n",
    "    return 2 * weights - 1\n",
    "\n",
    "def error_rate(err):\n",
    "    return numpy.mean(numpy.absolute(err))"
   ]
  },
  {
   "cell_type": "code",
   "execution_count": 3,
   "metadata": {
    "collapsed": true
   },
   "outputs": [],
   "source": [
    "# activation function and its derivative for backpropagation\n",
    "def sigmoid(x):\n",
    "    return 1 / (1 + numpy.exp(-x))\n",
    "\n",
    "def sigmoid_derivative(x):\n",
    "    return x * (1 - x)"
   ]
  },
  {
   "cell_type": "code",
   "execution_count": 4,
   "metadata": {
    "collapsed": true
   },
   "outputs": [],
   "source": [
    "# input data\n",
    "X = numpy.array([\n",
    "        [0, 0, 1],\n",
    "        [0, 1, 1],\n",
    "        [1, 0, 1],\n",
    "        [1, 1, 1]])"
   ]
  },
  {
   "cell_type": "code",
   "execution_count": 5,
   "metadata": {
    "collapsed": false
   },
   "outputs": [],
   "source": [
    "# output data\n",
    "y = numpy.array([[0, 1, 1, 0]]).T"
   ]
  },
  {
   "cell_type": "code",
   "execution_count": 6,
   "metadata": {
    "collapsed": true
   },
   "outputs": [],
   "source": [
    "# define neural net topology\n",
    "input_neurons = 3\n",
    "hidden_neurons = 4\n",
    "output_neurons = 1\n",
    "\n",
    "con01 = (input_neurons, hidden_neurons)\n",
    "con12 = (hidden_neurons, output_neurons)"
   ]
  },
  {
   "cell_type": "raw",
   "metadata": {},
   "source": [
    "Looks like NN topology and training sequence (propagation and backpropagation) highly consistent with each other. So, we could code abstract training sequence for any possible topology.\n",
    "\n",
    "Topology stands for the number of neuron layers, the number of neurons in each layer and connections between layers.\n",
    "\n",
    "First and last layers of the net is called input and output. These layers depend on our data. Other layers called hidden (invisible) and its topology we can change accordingly."
   ]
  },
  {
   "cell_type": "code",
   "execution_count": 7,
   "metadata": {
    "collapsed": false
   },
   "outputs": [],
   "source": [
    "# synapses\n",
    "syn0 = random_weights(con01)\n",
    "syn1 = random_weights(con12)"
   ]
  },
  {
   "cell_type": "code",
   "execution_count": 8,
   "metadata": {
    "collapsed": true
   },
   "outputs": [],
   "source": [
    "# learning curve (error rates)\n",
    "learning = []\n",
    "steps = range(6000)"
   ]
  },
  {
   "cell_type": "code",
   "execution_count": 9,
   "metadata": {
    "collapsed": false
   },
   "outputs": [],
   "source": [
    "# training step\n",
    "for j in steps:\n",
    "    # forward propagation\n",
    "    layer0 = X # inputs\n",
    "    layer1 = sigmoid(layer0.dot(syn0)) # hidden layer\n",
    "    layer2 = sigmoid(layer1.dot(syn1)) # outputs\n",
    "    \n",
    "    l2_error = numpy.subtract(y, layer2)\n",
    "    learning.append(error_rate(l2_error))\n",
    "    \n",
    "    # backpropagation\n",
    "    l2_delta = l2_error * sigmoid_derivative(layer2)\n",
    "    \n",
    "    # TODO combine two expressions\n",
    "    # l1_error not used anywhere else than l1_delta calculations\n",
    "    l1_error = l2_delta.dot(syn1.T)\n",
    "    l1_delta = l1_error * sigmoid_derivative(layer1)\n",
    "    \n",
    "    # updating synapses weights\n",
    "    syn1 += layer1.T.dot(l2_delta)\n",
    "    syn0 += layer0.T.dot(l1_delta)"
   ]
  },
  {
   "cell_type": "code",
   "execution_count": 10,
   "metadata": {
    "collapsed": false
   },
   "outputs": [
    {
     "data": {
      "text/plain": [
       "0.014561439314528551"
      ]
     },
     "execution_count": 10,
     "metadata": {},
     "output_type": "execute_result"
    }
   ],
   "source": [
    "error_rate(l2_error)"
   ]
  },
  {
   "cell_type": "code",
   "execution_count": 11,
   "metadata": {
    "collapsed": false
   },
   "outputs": [
    {
     "name": "stdout",
     "output_type": "stream",
     "text": [
      "[[0]\n",
      " [1]\n",
      " [1]\n",
      " [0]]\n"
     ]
    }
   ],
   "source": [
    "print y"
   ]
  },
  {
   "cell_type": "code",
   "execution_count": 12,
   "metadata": {
    "collapsed": false,
    "scrolled": true
   },
   "outputs": [
    {
     "name": "stdout",
     "output_type": "stream",
     "text": [
      "[[ 0.00703157]\n",
      " [ 0.9857832 ]\n",
      " [ 0.98232628]\n",
      " [ 0.01932367]]\n"
     ]
    }
   ],
   "source": [
    "print layer2 # prediction"
   ]
  },
  {
   "cell_type": "code",
   "execution_count": 13,
   "metadata": {
    "collapsed": false
   },
   "outputs": [
    {
     "data": {
      "text/plain": [
       "[<matplotlib.lines.Line2D at 0x7f198578b310>]"
      ]
     },
     "execution_count": 13,
     "metadata": {},
     "output_type": "execute_result"
    },
    {
     "data": {
      "image/png": "[encoded data removed]",
      "text/plain": [
       "<matplotlib.figure.Figure at 0x7f198c9dd310>"
      ]
     },
     "metadata": {},
     "output_type": "display_data"
    }
   ],
   "source": [
    "%matplotlib inline\n",
    "from matplotlib.pyplot import plot\n",
    "plot(steps, learning)"
   ]
  }
 ],
 "metadata": {
  "kernelspec": {
   "display_name": "Python 2",
   "language": "python",
   "name": "python2"
  },
  "language_info": {
   "codemirror_mode": {
    "name": "ipython",
    "version": 2
   },
   "file_extension": ".py",
   "mimetype": "text/x-python",
   "name": "python",
   "nbconvert_exporter": "python",
   "pygments_lexer": "ipython2",
   "version": "2.7.13"
  }
 },
 "nbformat": 4,
 "nbformat_minor": 0
}
